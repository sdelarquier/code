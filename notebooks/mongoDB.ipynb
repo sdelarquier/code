{
 "metadata": {
  "name": "mongoDB"
 },
 "nbformat": 3,
 "nbformat_minor": 0,
 "worksheets": [
  {
   "cells": [
    {
     "cell_type": "code",
     "collapsed": false,
     "input": [
      "import pymongo\n",
      "from datetime import datetime\n",
      "import sys\n",
      "sys.path.append('/davitpy')\n",
      "from pydarn import radar"
     ],
     "language": "python",
     "metadata": {},
     "outputs": [],
     "prompt_number": 2
    },
    {
     "cell_type": "markdown",
     "metadata": {},
     "source": [
      "#### First read info from files"
     ]
    },
    {
     "cell_type": "code",
     "collapsed": false,
     "input": [
      "radars = []\n",
      "hdw = []\n",
      "radarF = radar.radarRead()\n",
      "nradar = len(radarF['id'])\n",
      "for irad in xrange( nradar ):\n",
      "    radars.append( {'id': radarF['id'][irad], \n",
      "                    'cnum': radarF['cnum'][irad], \n",
      "                    'code': radarF['code'][irad], \n",
      "                    'name': radarF['name'][irad], \n",
      "                    'operator': radarF['operator'][irad], \n",
      "                    'hdwfname': radarF['hdwfname'][irad], \n",
      "                    'status': radarF['status'][irad], \n",
      "                    'stTime': radarF['stTime'][irad], \n",
      "                    'edTime': radarF['edTime'][irad], \n",
      "                    'snum': 0} )\n",
      "    siteF = radar.hdwRead(radars[-1]['hdwfname'])\n",
      "    if not siteF: continue\n",
      "    tsnum = 0\n",
      "    for isit in xrange( len(siteF['tval']) ):\n",
      "        if siteF['tval'][isit] == 0: continue\n",
      "        tval = datetime(3000,1,1) if siteF['tval'][isit] == -1 else siteF['tval'][isit]\n",
      "        hdw.append( {'id': radarF['id'][irad], \n",
      "                   'tval': tval,\n",
      "                   'geolat': siteF['geolat'][isit],\n",
      "                   'geolon': siteF['geolon'][isit],\n",
      "                   'alt': siteF['alt'][isit], \n",
      "                   'boresite': siteF['boresite'][isit],\n",
      "                   'bmsep': siteF['bmsep'][isit],\n",
      "                   'vdir': siteF['vdir'][isit],\n",
      "                   'atten': siteF['atten'][isit],\n",
      "                   'tdiff': siteF['tdiff'][isit],\n",
      "                   'phidiff': siteF['phidiff'][isit],\n",
      "                   'interfer': siteF['interfer'][isit],\n",
      "                   'recrise': siteF['recrise'][isit],\n",
      "                   'maxatten': siteF['maxatten'][isit],\n",
      "                   'maxgate': siteF['maxgate'][isit],\n",
      "                   'maxbeam': siteF['maxbeam'][isit]} )\n",
      "        tsnum += 1\n",
      "    radars[-1]['snum'] = tsnum"
     ],
     "language": "python",
     "metadata": {},
     "outputs": [],
     "prompt_number": 3
    },
    {
     "cell_type": "markdown",
     "metadata": {},
     "source": [
      "#### Add parameter description"
     ]
    },
    {
     "cell_type": "code",
     "collapsed": false,
     "input": [
      "infodict = [{'var': 'id' ,  'description': '''unique radar ID (int)'''}, \n",
      "            {'var': 'cnum' ,  'description': '''number of radar codes (int)'''}, \n",
      "            {'var': 'code' ,  'description': '''radar codes, , i.e. [gbr, g] (list of strings)'''}, \n",
      "            {'var': 'name' ,  'description': '''radar full name (string)'''}, \n",
      "            {'var': 'operator' ,  'description': '''radar operator (string)'''}, \n",
      "            {'var': 'hdwfname' ,  'description': '''hdw.dat file name, usually hdw.dat.code (string)'''}, \n",
      "            {'var': 'status' ,  'description': '''radar operating status: 1 for active, -1 for inactive and 0 for planned (int)'''}, \n",
      "            {'var': 'stTime' ,  'description': '''radar first light (string: %Y-%m-%d %H:%M:%S)'''}, \n",
      "            {'var': 'edTime' ,  'description': '''radar last day of operation (string: %Y-%m-%d %H:%M:%S)'''}, \n",
      "            {'var': 'snum' ,  'description': '''number of site updates, i.e. entries in hdw.dat (int)'''}, \n",
      "            {'var': 'tval' ,  'description': '''last date/time operating with given parameters; 3000/1/1 if current (string: %Y-%m-%d %H:%M:%S)'''}, \n",
      "            {'var': 'geolat' ,  'description': '''main array geographic latitude (float) [degrees]'''}, \n",
      "            {'var': 'geolon' ,  'description': '''main array geographic longitude (float) [degrees]'''}, \n",
      "            {'var': 'alt' ,  'description': '''main array altitude (float) [km]'''}, \n",
      "            {'var': 'boresite' ,  'description': '''boresight azimuth (float) [degrees]'''}, \n",
      "            {'var': 'bmsep' ,  'description': '''beam separation (float) [degrees]'''}, \n",
      "            {'var': 'vdir' ,  'description': '''velocity sign: (int) \n",
      "At the radar level, backscattered signals with frequencies above the \n",
      "transmitted frequency are assigned positive Doppler velocities while \n",
      "backscattered signals with frequencies below the transmitted frequency \n",
      "are assigned negative Doppler velocity. This convention can be reversed \n",
      "by changes in receiver design or in the data samping rate. This parameter \n",
      "is set to +1 or -1 to maintain the convention.'''}, \n",
      "            {'var': 'atten' ,  'description': '''Analog Rx attenuator step (float) [dB]'''}, \n",
      "            {'var': 'tdiff' ,  'description': '''(float) [microsecond] \n",
      "Propagation time from interferometer array antenna to \n",
      "phasing matrix input minus propagation time from main array antenna \n",
      "through transmitter to phasing matrix input. If the signal from the \n",
      "interferometer comes first, then tdiff < 0'''}, \n",
      "            {'var': 'phidiff' ,  'description': '''(float) \n",
      "Phase sign (Cabling errors can lead to a 180 degree shift of the \n",
      "interferometry phase measurement. +1 indicates that the sign is \n",
      "correct, -1 indicates that it must be flipped.)'''}, \n",
      "            {'var': 'interfer' ,  'description': '''Interferometer offset  (Displacement of midpoint of \n",
      "interferometer array from midpoint of main array. This is given in \n",
      "meters in Cartesian coordinates. X is along the line of antennas with \n",
      "+X toward higher antenna numbers, Y is along the array normal \n",
      "direction with +Y in the direction of the array normal. Z is the \n",
      "altitude difference, +Z up.)'''}, \n",
      "            {'var': 'recrise' ,  'description': '''Analog Rx rise time (float) [microsecond]\n",
      "Time delays of less than ~10 microseconds can be ignored. If narrow-band filters are \n",
      "used in analog receivers or front-ends, the time delays should be specified.'''}, \n",
      "            {'var': 'maxatten' ,  'description': '''Analog attenuation stages (int) \n",
      "Number of stages. This is used for gain control of an analog receiver or front-end.'''}, \n",
      "            {'var': 'maxgate' ,  'description': '''Maximum number of range gates (int)'''}, \n",
      "            {'var': 'maxbeam' ,  'description': '''Maximum number of beams (int)'''} ]"
     ],
     "language": "python",
     "metadata": {},
     "outputs": [],
     "prompt_number": 4
    },
    {
     "cell_type": "markdown",
     "metadata": {},
     "source": [
      "#### Finally insert into database (after first removing existing collections)"
     ]
    },
    {
     "cell_type": "code",
     "collapsed": false,
     "input": [
      "username = 'sd_dbwrite'\n",
      "password = 'more_dbwrite'\n",
      "dbAddress = 'sd-work9.ece.vt.edu'"
     ],
     "language": "python",
     "metadata": {},
     "outputs": [],
     "prompt_number": 5
    },
    {
     "cell_type": "code",
     "collapsed": false,
     "input": [
      "conn = pymongo.MongoClient('mongodb://'+username+':'+password+'@'+dbAddress+'/')\n",
      "\n",
      "db = conn.radarInfo\n",
      "db.add_user(\"sd_dbread\", \"5d\", True)\n",
      "\n",
      "db.drop_collection('radars')\n",
      "db.drop_collection('hdw')\n",
      "db.drop_collection('metadata')\n",
      "\n",
      "coll_radars = db.radars\n",
      "ins = coll_radars.insert(radars)\n",
      "coll_radars.ensure_index('id')\n",
      "coll_radars.ensure_index('code')\n",
      "\n",
      "coll_hdw = db.hdw\n",
      "ins = coll_hdw.insert(hdw)\n",
      "coll_hdw.ensure_index('id')\n",
      "\n",
      "coll_metadata = db.metadata\n",
      "ins = coll_metadata.insert(infodict)"
     ],
     "language": "python",
     "metadata": {},
     "outputs": [],
     "prompt_number": 6
    },
    {
     "cell_type": "markdown",
     "metadata": {},
     "source": [
      "#### Read from database"
     ]
    },
    {
     "cell_type": "code",
     "collapsed": false,
     "input": [
      "username = 'sd_dbread'\n",
      "password = '5d'\n",
      "dbAddress = 'sd-work9.ece.vt.edu'\n",
      "dbName = 'radarInfo'"
     ],
     "language": "python",
     "metadata": {},
     "outputs": [],
     "prompt_number": 7
    },
    {
     "cell_type": "code",
     "collapsed": false,
     "input": [
      "conn = pymongo.MongoClient('mongodb://'+username+':'+password+'@'+dbAddress+'/'+dbName)\n",
      "\n",
      "db = conn.radarInfo\n",
      "\n",
      "colNames = db.collection_names()\n",
      "colSel = lambda colName: db[colName].find()\n",
      "db_select = {}\n",
      "for colName in colNames:\n",
      "    if 'system' in colName: continue\n",
      "    db_select[colName] = colSel(colName)"
     ],
     "language": "python",
     "metadata": {},
     "outputs": [],
     "prompt_number": 8
    },
    {
     "cell_type": "markdown",
     "metadata": {},
     "source": [
      "#### Write this to an hdf5 file using pytables"
     ]
    },
    {
     "cell_type": "code",
     "collapsed": false,
     "input": [
      "import tables"
     ],
     "language": "python",
     "metadata": {},
     "outputs": [],
     "prompt_number": 9
    },
    {
     "cell_type": "code",
     "collapsed": false,
     "input": [
      "class h5Site(IsDescription):\n",
      "\t\ttval = 0.0\n",
      "\t\tgeolat = 0.0\n",
      "\t\tgeolon = 0.0\n",
      "\t\talt = 0.0\n",
      "\t\tboresite = 0.0\n",
      "\t\tbmsep = 0.0\n",
      "\t\tvdir = 0\n",
      "\t\tatten = 0.0\n",
      "\t\ttdiff = 0.0\n",
      "\t\tphidiff = 0.0\n",
      "\t\tinterfer = [0.0, 0.0, 0.0]\n",
      "\t\trecrise = 0.0\n",
      "\t\tmaxatten = 0\n",
      "\t\tmaxgate = 0\n",
      "\t\tmaxbeam = 0"
     ],
     "language": "python",
     "metadata": {},
     "outputs": []
    },
    {
     "cell_type": "code",
     "collapsed": false,
     "input": [
      "filename = \"test.h5\"\n",
      "# Open a file in \"w\"rite mode\n",
      "h5file = tables.openFile(filename, mode = \"w\", title = \"Test file\")\n",
      "# Create a new group under \"/\" (root)\n",
      "group = h5file.createGroup(\"/\", 'detector', 'Detector information')\n",
      "# Create one table on root\n",
      "table = h5file.createTable(group, 'hdw', radar.site, \"hdw.dat example\")\n",
      "\n",
      "# Close (and flush) the file\n",
      "h5file.close()"
     ],
     "language": "python",
     "metadata": {},
     "outputs": [
      {
       "ename": "TypeError",
       "evalue": "the ``description`` argument is not of a supported type: ``IsDescription`` subclass, ``Description`` instance, dictionary, or record array",
       "output_type": "pyerr",
       "traceback": [
        "\u001b[1;31m---------------------------------------------------------------------------\u001b[0m\n\u001b[1;31mTypeError\u001b[0m                                 Traceback (most recent call last)",
        "\u001b[1;32m<ipython-input-19-3d5c4b366ae6>\u001b[0m in \u001b[0;36m<module>\u001b[1;34m()\u001b[0m\n\u001b[0;32m      5\u001b[0m \u001b[0mgroup\u001b[0m \u001b[1;33m=\u001b[0m \u001b[0mh5file\u001b[0m\u001b[1;33m.\u001b[0m\u001b[0mcreateGroup\u001b[0m\u001b[1;33m(\u001b[0m\u001b[1;34m\"/\"\u001b[0m\u001b[1;33m,\u001b[0m \u001b[1;34m'detector'\u001b[0m\u001b[1;33m,\u001b[0m \u001b[1;34m'Detector information'\u001b[0m\u001b[1;33m)\u001b[0m\u001b[1;33m\u001b[0m\u001b[0m\n\u001b[0;32m      6\u001b[0m \u001b[1;31m# Create one table on root\u001b[0m\u001b[1;33m\u001b[0m\u001b[1;33m\u001b[0m\u001b[0m\n\u001b[1;32m----> 7\u001b[1;33m \u001b[0mtable\u001b[0m \u001b[1;33m=\u001b[0m \u001b[0mh5file\u001b[0m\u001b[1;33m.\u001b[0m\u001b[0mcreateTable\u001b[0m\u001b[1;33m(\u001b[0m\u001b[0mgroup\u001b[0m\u001b[1;33m,\u001b[0m \u001b[1;34m'hdw'\u001b[0m\u001b[1;33m,\u001b[0m \u001b[0mradar\u001b[0m\u001b[1;33m.\u001b[0m\u001b[0msite\u001b[0m\u001b[1;33m,\u001b[0m \u001b[1;34m\"hdw.dat example\"\u001b[0m\u001b[1;33m)\u001b[0m\u001b[1;33m\u001b[0m\u001b[0m\n\u001b[0m\u001b[0;32m      8\u001b[0m \u001b[1;33m\u001b[0m\u001b[0m\n\u001b[0;32m      9\u001b[0m \u001b[1;31m# Close (and flush) the file\u001b[0m\u001b[1;33m\u001b[0m\u001b[1;33m\u001b[0m\u001b[0m\n",
        "\u001b[1;32m/usr/lib/python2.7/dist-packages/tables/file.pyc\u001b[0m in \u001b[0;36mcreateTable\u001b[1;34m(self, where, name, description, title, filters, expectedrows, chunkshape, byteorder, createparents)\u001b[0m\n\u001b[0;32m    768\u001b[0m                      \u001b[0mdescription\u001b[0m\u001b[1;33m=\u001b[0m\u001b[0mdescription\u001b[0m\u001b[1;33m,\u001b[0m \u001b[0mtitle\u001b[0m\u001b[1;33m=\u001b[0m\u001b[0mtitle\u001b[0m\u001b[1;33m,\u001b[0m\u001b[1;33m\u001b[0m\u001b[0m\n\u001b[0;32m    769\u001b[0m                      \u001b[0mfilters\u001b[0m\u001b[1;33m=\u001b[0m\u001b[0mfilters\u001b[0m\u001b[1;33m,\u001b[0m \u001b[0mexpectedrows\u001b[0m\u001b[1;33m=\u001b[0m\u001b[0mexpectedrows\u001b[0m\u001b[1;33m,\u001b[0m\u001b[1;33m\u001b[0m\u001b[0m\n\u001b[1;32m--> 770\u001b[1;33m                      chunkshape=chunkshape, byteorder=byteorder)\n\u001b[0m\u001b[0;32m    771\u001b[0m \u001b[1;33m\u001b[0m\u001b[0m\n\u001b[0;32m    772\u001b[0m \u001b[1;33m\u001b[0m\u001b[0m\n",
        "\u001b[1;32m/usr/lib/python2.7/dist-packages/tables/table.pyc\u001b[0m in \u001b[0;36m__init__\u001b[1;34m(self, parentNode, name, description, title, filters, expectedrows, chunkshape, byteorder, _log)\u001b[0m\n\u001b[0;32m    810\u001b[0m         \u001b[1;32mif\u001b[0m \u001b[0mnew\u001b[0m \u001b[1;32mand\u001b[0m \u001b[0mself\u001b[0m\u001b[1;33m.\u001b[0m\u001b[0mdescription\u001b[0m \u001b[1;32mis\u001b[0m \u001b[0mNone\u001b[0m\u001b[1;33m:\u001b[0m\u001b[1;33m\u001b[0m\u001b[0m\n\u001b[0;32m    811\u001b[0m             raise TypeError(\n\u001b[1;32m--> 812\u001b[1;33m                 \u001b[1;34m\"the ``description`` argument is not of a supported type: \"\u001b[0m\u001b[1;33m\u001b[0m\u001b[0m\n\u001b[0m\u001b[0;32m    813\u001b[0m                 \u001b[1;34m\"``IsDescription`` subclass, ``Description`` instance, \"\u001b[0m\u001b[1;33m\u001b[0m\u001b[0m\n\u001b[0;32m    814\u001b[0m                 \"dictionary, or record array\" )\n",
        "\u001b[1;31mTypeError\u001b[0m: the ``description`` argument is not of a supported type: ``IsDescription`` subclass, ``Description`` instance, dictionary, or record array"
       ]
      }
     ],
     "prompt_number": 19
    },
    {
     "cell_type": "code",
     "collapsed": false,
     "input": [
      "for colName in colNames:\n",
      "    if 'system' in colName: continue\n",
      "    print '####### {} #######'.format(colName)\n",
      "    for ir,row in enumerate(db_select[colName]):\n",
      "        print '\\t', ir\n",
      "        for k,v in row.items():\n",
      "            if k == '_id': continue\n",
      "            print '\\t\\t', k, ':=', v"
     ],
     "language": "python",
     "metadata": {},
     "outputs": []
    },
    {
     "cell_type": "code",
     "collapsed": false,
     "input": [
      "h5file.close()"
     ],
     "language": "python",
     "metadata": {},
     "outputs": [],
     "prompt_number": 18
    },
    {
     "cell_type": "code",
     "collapsed": false,
     "input": [],
     "language": "python",
     "metadata": {},
     "outputs": []
    }
   ],
   "metadata": {}
  }
 ]
}