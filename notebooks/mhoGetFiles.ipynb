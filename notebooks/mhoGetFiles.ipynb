{
 "metadata": {
  "name": "mhoGetFiles"
 },
 "nbformat": 3,
 "nbformat_minor": 0,
 "worksheets": [
  {
   "cells": [
    {
     "cell_type": "code",
     "collapsed": false,
     "input": [
      "import madrigalWeb.madrigalWeb\n",
      "import os\n",
      "from datetime import datetime"
     ],
     "language": "python",
     "metadata": {},
     "outputs": [],
     "prompt_number": 1
    },
    {
     "cell_type": "markdown",
     "metadata": {},
     "source": [
      "###Get files from Madrigal"
     ]
    },
    {
     "cell_type": "code",
     "collapsed": false,
     "input": [
      "# constants\n",
      "user_fullname = 'Sebastien de Larquier'\n",
      "user_email = 'sdelarquier@vt.edu'\n",
      "user_affiliation = 'Virginia Tech'\n",
      "\n",
      "madrigalUrl = 'http://cedar.openmadrigal.org'\n",
      "madData = madrigalWeb.madrigalWeb.MadrigalData(madrigalUrl)"
     ],
     "language": "python",
     "metadata": {},
     "outputs": [],
     "prompt_number": 2
    },
    {
     "cell_type": "code",
     "collapsed": false,
     "input": [
      "def getFilesFromMad(sdate, fdate):\n",
      "    print 'getExperiments'\n",
      "    expList = madData.getExperiments(30, sdate.year, sdate.month, sdate.day, sdate.hour, sdate.minute, sdate.second, \n",
      "                                          fdate.year, fdate.month, fdate.day, fdate.hour, fdate.minute, fdate.second)\n",
      "    \n",
      "    if not expList: return\n",
      "    \n",
      "    for exp in expList:\n",
      "        # should be only one\n",
      "        print (str(exp) + '\\n')\n",
      "    \n",
      "    print 'getExperimentFiles'\n",
      "    thisFilename = False\n",
      "    fileList = madData.getExperimentFiles(expList[0].id)\n",
      "    for thisFile in fileList:\n",
      "        print 'Status: {}; Perm.: {}'.format(thisFile.status, thisFile.permission)\n",
      "        if thisFile.category == 1:\n",
      "            print (str(thisFile.name) + '\\n')\n",
      "            thisFilename = thisFile.name\n",
      "            break\n",
      "        \n",
      "    if not thisFilename: return\n",
      "        \n",
      "    print 'downloadFile - hdf5 format'\n",
      "    result = madData.downloadFile(thisFilename, \"/home/sebastien/Documents/code/mho/data/{}.hdf5\".format(os.path.split(thisFilename)[1]), \n",
      "            user_fullname, user_email, user_affiliation, format=\"hdf5\")"
     ],
     "language": "python",
     "metadata": {},
     "outputs": [],
     "prompt_number": 8
    },
    {
     "cell_type": "code",
     "collapsed": false,
     "input": [
      "sdate = datetime(2010, 11, 17, 21)\n",
      "fdate = datetime(2010, 11, 18, 13)\n",
      "getFilesFromMad(sdate, fdate)"
     ],
     "language": "python",
     "metadata": {},
     "outputs": [
      {
       "output_type": "stream",
       "stream": "stdout",
       "text": [
        "getExperiments\n",
        "id: 100012654\n",
        "realUrl: http://cedar.openmadrigal.org/cgi-bin/madExperiment.cgi?exp=experiments/2010/mlh/17nov10&displayLevel=0&expTitle=SD+Blackstone+Coverage\n",
        "url: http://cedar.openmadrigal.org/cgi-bin/madtoc/experiments/2010/mlh/17nov10\n",
        "name: SD Blackstone Coverage\n",
        "siteid: 10\n",
        "sitename: CEDAR\n",
        "instcode: 30\n",
        "instname: Millstone Hill IS Radar\n",
        "startyear: 2010\n",
        "startmonth: 11\n",
        "startday: 17\n",
        "starthour: 21\n",
        "startmin: 5\n",
        "startsec: 3\n",
        "endyear: 2010\n",
        "endmonth: 11\n",
        "endday: 18\n",
        "endhour: 12\n",
        "endmin: 28\n",
        "endsec: 15\n",
        "isLocal: True\n",
        "madrigalUrl: http://cedar.openmadrigal.org/\n",
        "PI: Phil Erickson\n",
        "PIEmail: perickson@haystack.mit.edu\n",
        "\n",
        "\n"
       ]
      },
      {
       "output_type": "stream",
       "stream": "stdout",
       "text": [
        "\n",
        "getExperimentFiles\n",
        "Status: Final; Perm.: 0"
       ]
      },
      {
       "output_type": "stream",
       "stream": "stdout",
       "text": [
        "\n",
        "/opt/cedar/experiments/2010/mlh/17nov10/mlh101117g.002\n",
        "\n",
        "downloadFile - hdf5 format\n",
        "None"
       ]
      },
      {
       "output_type": "stream",
       "stream": "stdout",
       "text": [
        "\n"
       ]
      }
     ],
     "prompt_number": 9
    },
    {
     "cell_type": "code",
     "collapsed": false,
     "input": [
      "sdate = datetime(2011, 2, 10, 15)\n",
      "fdate = datetime(2011, 2, 11, 13)\n",
      "getFilesFromMad(sdate, fdate)"
     ],
     "language": "python",
     "metadata": {},
     "outputs": [
      {
       "output_type": "stream",
       "stream": "stdout",
       "text": [
        "getExperiments\n",
        "id: 100006091\n",
        "realUrl: http://cedar.openmadrigal.org/cgi-bin/madExperiment.cgi?exp=experiments/2011/mlh/10feb11&displayLevel=0&expTitle=SD+Blackstone+Coverage\n",
        "url: http://cedar.openmadrigal.org/cgi-bin/madtoc/experiments/2011/mlh/10feb11\n",
        "name: SD Blackstone Coverage\n",
        "siteid: 10\n",
        "sitename: CEDAR\n",
        "instcode: 30\n",
        "instname: Millstone Hill IS Radar\n",
        "startyear: 2011\n",
        "startmonth: 2\n",
        "startday: 10\n",
        "starthour: 15\n",
        "startmin: 11\n",
        "startsec: 32\n",
        "endyear: 2011\n",
        "endmonth: 2\n",
        "endday: 11\n",
        "endhour: 12\n",
        "endmin: 58\n",
        "endsec: 29\n",
        "isLocal: True\n",
        "madrigalUrl: http://cedar.openmadrigal.org/\n",
        "PI: Phil Erickson\n",
        "PIEmail: perickson@haystack.mit.edu\n",
        "\n",
        "\n"
       ]
      },
      {
       "output_type": "stream",
       "stream": "stdout",
       "text": [
        "\n",
        "getExperimentFiles\n",
        "Status: Final; Perm.: 0"
       ]
      },
      {
       "output_type": "stream",
       "stream": "stdout",
       "text": [
        "\n",
        "/opt/cedar/experiments/2011/mlh/10feb11/mlh110210g.002\n",
        "\n",
        "downloadFile - hdf5 format\n"
       ]
      }
     ],
     "prompt_number": 5
    },
    {
     "cell_type": "code",
     "collapsed": false,
     "input": [
      "sdate = datetime(2011, 2, 11, 21)\n",
      "fdate = datetime(2011, 2, 12, 13)\n",
      "getFilesFromMad(sdate, fdate)"
     ],
     "language": "python",
     "metadata": {},
     "outputs": [
      {
       "output_type": "stream",
       "stream": "stdout",
       "text": [
        "getExperiments\n",
        "id: 100006077\n",
        "realUrl: http://cedar.openmadrigal.org/cgi-bin/madExperiment.cgi?exp=experiments/2011/mlh/11feb11&displayLevel=0&expTitle=SD+Blackstone+Coverage\n",
        "url: http://cedar.openmadrigal.org/cgi-bin/madtoc/experiments/2011/mlh/11feb11\n",
        "name: SD Blackstone Coverage\n",
        "siteid: 10\n",
        "sitename: CEDAR\n",
        "instcode: 30\n",
        "instname: Millstone Hill IS Radar\n",
        "startyear: 2011\n",
        "startmonth: 2\n",
        "startday: 11\n",
        "starthour: 21\n",
        "startmin: 18\n",
        "startsec: 38\n",
        "endyear: 2011\n",
        "endmonth: 2\n",
        "endday: 12\n",
        "endhour: 13\n",
        "endmin: 24\n",
        "endsec: 25\n",
        "isLocal: True\n",
        "madrigalUrl: http://cedar.openmadrigal.org/\n",
        "PI: Phil Erickson\n",
        "PIEmail: perickson@haystack.mit.edu\n",
        "\n",
        "\n"
       ]
      },
      {
       "output_type": "stream",
       "stream": "stdout",
       "text": [
        "\n",
        "getExperimentFiles\n",
        "Status: Final; Perm.: 0"
       ]
      },
      {
       "output_type": "stream",
       "stream": "stdout",
       "text": [
        "\n",
        "/opt/cedar/experiments/2011/mlh/11feb11/mlh110211g.002\n",
        "\n",
        "downloadFile - hdf5 format\n"
       ]
      }
     ],
     "prompt_number": 6
    },
    {
     "cell_type": "code",
     "collapsed": false,
     "input": [
      "sdate = datetime(2013, 1, 24)\n",
      "fdate = datetime(2013, 1, 25)\n",
      "getFilesFromMad(sdate, fdate)"
     ],
     "language": "python",
     "metadata": {},
     "outputs": [
      {
       "output_type": "stream",
       "stream": "stdout",
       "text": [
        "getExperiments\n",
        "id: 100014063\n",
        "realUrl: http://cedar.openmadrigal.org/cgi-bin/madExperiment.cgi?exp=experiments/2013/mlh/24jan13&displayLevel=0&expTitle=Van+Allen+Conjunction+Wide+Coverage\n",
        "url: http://cedar.openmadrigal.org/cgi-bin/madtoc/experiments/2013/mlh/24jan13\n",
        "name: Van Allen Conjunction Wide Coverage\n",
        "siteid: 10\n",
        "sitename: CEDAR\n",
        "instcode: 30\n",
        "instname: Millstone Hill IS Radar\n",
        "startyear: 2013\n",
        "startmonth: 1\n",
        "startday: 24\n",
        "starthour: 5\n",
        "startmin: 0\n",
        "startsec: 30\n",
        "endyear: 2013\n",
        "endmonth: 1\n",
        "endday: 24\n",
        "endhour: 17\n",
        "endmin: 7\n",
        "endsec: 42\n",
        "isLocal: True\n",
        "madrigalUrl: http://cedar.openmadrigal.org/\n",
        "PI: Phil Erickson\n",
        "PIEmail: perickson@haystack.mit.edu\n",
        "\n",
        "\n"
       ]
      },
      {
       "output_type": "stream",
       "stream": "stdout",
       "text": [
        "\n",
        "getExperimentFiles\n",
        "Status: Preliminary - final calibration pending; Perm.: 0"
       ]
      },
      {
       "output_type": "stream",
       "stream": "stdout",
       "text": [
        "\n",
        "/opt/cedar/experiments/2013/mlh/24jan13/mlh130124g.001\n",
        "\n",
        "downloadFile - hdf5 format\n"
       ]
      }
     ],
     "prompt_number": 5
    },
    {
     "cell_type": "code",
     "collapsed": false,
     "input": [],
     "language": "python",
     "metadata": {},
     "outputs": [],
     "prompt_number": 7
    }
   ],
   "metadata": {}
  }
 ]
}