{
 "metadata": {
  "name": "azimAACGM"
 },
 "nbformat": 3,
 "nbformat_minor": 0,
 "worksheets": [
  {
   "cells": [
    {
     "cell_type": "code",
     "collapsed": false,
     "input": [
      "import sys\n",
      "sys.path.append('/davitpy')\n",
      "from pydarn import radar\n",
      "from utils import geoPack, profileUtils\n",
      "from datetime import datetime"
     ],
     "language": "python",
     "metadata": {},
     "outputs": [],
     "prompt_number": 9
    },
    {
     "cell_type": "code",
     "collapsed": false,
     "input": [
      "dt = datetime(2010,11,18)\n",
      "bks = radar.network().getRadarByCode('bks').getSiteByDate(dt)\n",
      "wal = radar.network().getRadarByCode('wal').getSiteByDate(dt)"
     ],
     "language": "python",
     "metadata": {},
     "outputs": [],
     "prompt_number": 10
    },
    {
     "cell_type": "code",
     "collapsed": false,
     "input": [
      "bpos1 = geoPack.calcDistPnt(bks.geolat, bks.geolon, bks.alt, dist=1000., el=0., az=-60.95)\n",
      "bpos2 = geoPack.calcDistPnt(bks.geolat, bks.geolon, bks.alt, dist=1000., el=0., az=-3.05)\n",
      "wpos1 = geoPack.calcDistPnt(wal.geolat, wal.geolon, wal.alt, dist=1000., el=0., az=-1.36)\n",
      "wpos2 = geoPack.calcDistPnt(wal.geolat, wal.geolon, wal.alt, dist=1000., el=0., az=73.16)"
     ],
     "language": "python",
     "metadata": {},
     "outputs": [],
     "prompt_number": 12
    },
    {
     "cell_type": "code",
     "collapsed": false,
     "input": [
      "print '-- BKS: %s, %s, %s' % (bks.geolat, bks.geolon, bks.alt)\n",
      "print '%s, %s, %s' % (bpos1['distLat'], bpos1['distLon'], bpos1['distAlt'])\n",
      "print '%s, %s, %s' % (bpos2['distLat'], bpos2['distLon'], bpos2['distAlt'])\n",
      "print '-- WAL: %s, %s, %s' % (wal.geolat, wal.geolon, wal.alt)\n",
      "print '%s, %s, %s' % (wpos1['distLat'], wpos1['distLon'], wpos1['distAlt'])\n",
      "print '%s, %s, %s' % (wpos2['distLat'], wpos2['distLon'], wpos2['distAlt'])"
     ],
     "language": "python",
     "metadata": {},
     "outputs": [
      {
       "output_type": "stream",
       "stream": "stdout",
       "text": [
        "-- BKS: 37.1, -77.95, 50.0\n",
        "40.9761891189, -88.1874985695, 127.272606374\n",
        "45.9502266955, -78.6227995331, 127.486073934\n",
        "-- WAL: 37.93, -75.47, 50.0\n",
        "46.79042597, -75.7747481551, 127.475628838\n",
        "39.9882776349, -64.4146827359, 127.231612024\n"
       ]
      }
     ],
     "prompt_number": 25
    },
    {
     "cell_type": "code",
     "collapsed": false,
     "input": [
      "# From IDL (since I cannot import aacgmlib here)\n",
      "bksmag = [47.967176, -2.6977763, bks.alt]\n",
      "bpos1mag = [52.135647, -17.027579, bpos1['distAlt']]\n",
      "bpos2mag = [56.748163, -3.0293050, bpos2['distAlt']]\n",
      "walmag = [48.512252, 0.84598404, wal.alt]\n",
      "wpos1mag = [57.299147, 1.1533877, wpos1['distAlt']]\n",
      "wpos2mag = [48.805717, 15.848639, wpos2['distAlt']]"
     ],
     "language": "python",
     "metadata": {},
     "outputs": [],
     "prompt_number": 29
    },
    {
     "cell_type": "code",
     "collapsed": false,
     "input": [
      "baz1 = geoPack.calcDistPnt(bksmag[0], bksmag[1], bksmag[2], distLat=bpos1mag[0], distLon=bpos1mag[1], distAlt=bpos1mag[2])\n",
      "baz2 = geoPack.calcDistPnt(bksmag[0], bksmag[1], bksmag[2], distLat=bpos2mag[0], distLon=bpos2mag[1], distAlt=bpos2mag[2])\n",
      "waz1 = geoPack.calcDistPnt(walmag[0], walmag[1], walmag[2], distLat=wpos1mag[0], distLon=wpos1mag[1], distAlt=wpos1mag[2])\n",
      "waz2 = geoPack.calcDistPnt(walmag[0], walmag[1], walmag[2], distLat=wpos2mag[0], distLon=wpos2mag[1], distAlt=wpos2mag[2])"
     ],
     "language": "python",
     "metadata": {},
     "outputs": [],
     "prompt_number": 30
    },
    {
     "cell_type": "code",
     "collapsed": false,
     "input": [
      "print baz1['az']\n",
      "print baz2['az']\n",
      "print abs(baz2['az']-baz1['az'])/3.86\n",
      "print '\\n'\n",
      "print waz1['az']\n",
      "print waz2['az']\n",
      "print abs(waz2['az']-waz1['az'])/3.24"
     ],
     "language": "python",
     "metadata": {},
     "outputs": [
      {
       "output_type": "stream",
       "stream": "stdout",
       "text": [
        "-60.3077563067\n",
        "-1.19416223868\n",
        "15.3144026083\n",
        "\n",
        "\n",
        "1.09021026267\n",
        "82.6855034121\n",
        "25.1837324535\n"
       ]
      }
     ],
     "prompt_number": 33
    },
    {
     "cell_type": "code",
     "collapsed": false,
     "input": [],
     "language": "python",
     "metadata": {},
     "outputs": []
    }
   ],
   "metadata": {}
  }
 ]
}