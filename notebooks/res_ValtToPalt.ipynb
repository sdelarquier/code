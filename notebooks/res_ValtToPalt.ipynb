{
 "metadata": {
  "name": "res_ValtToPalt"
 },
 "nbformat": 3,
 "nbformat_minor": 0,
 "worksheets": [
  {
   "cells": [
    {
     "cell_type": "code",
     "collapsed": false,
     "input": [
      "import idlsave"
     ],
     "language": "python",
     "metadata": {},
     "outputs": [],
     "prompt_number": 2
    },
    {
     "cell_type": "code",
     "collapsed": false,
     "input": [
      "rt = idlsave.read('../radar/data/IS_20101118_rt.sav')\n",
      "dist = idlsave.read('../radar/data/IS_altitude.sav')"
     ],
     "language": "python",
     "metadata": {},
     "outputs": [
      {
       "output_type": "stream",
       "stream": "stdout",
       "text": [
        "--------------------------------------------------\n",
        "Date: Sat Aug 18 13:27:02 2012\n",
        "User: sebastien\n",
        "Host: sd-work8\n",
        "--------------------------------------------------\n",
        "Format: 9\n",
        "Architecture: x86_64\n",
        "Operating System: linux\n",
        "IDL Version: 7.0\n",
        "--------------------------------------------------\n",
        "Successfully read 6 records of which:\n",
        " - 2 are of type VARIABLE\n",
        " - 1 are of type TIMESTAMP\n",
        " - 1 are of type NOTICE\n",
        " - 1 are of type VERSION\n",
        "--------------------------------------------------\n",
        "Available variables:\n",
        " - rt_info [<class 'numpy.core.records.recarray'>]\n",
        " - rt_data [<class 'numpy.core.records.recarray'>]\n",
        "--------------------------------------------------\n",
        "--------------------------------------------------\n",
        "Date: Fri Aug 17 16:20:09 2012\n",
        "User: sebastien\n",
        "Host: sd-work8\n",
        "--------------------------------------------------\n",
        "Format: 9\n",
        "Architecture: x86_64\n",
        "Operating System: linux\n",
        "IDL Version: 7.0\n",
        "--------------------------------------------------\n",
        "Successfully read 7 records of which:\n",
        " - 3 are of type VARIABLE\n",
        " - 1 are of type TIMESTAMP\n",
        " - 1 are of type NOTICE\n",
        " - 1 are of type VERSION\n",
        "--------------------------------------------------\n",
        "Available variables:\n",
        " - alt_steps [<type 'numpy.ndarray'>]\n",
        " - radhist [<type 'numpy.ndarray'>]\n",
        " - rthist [<type 'numpy.ndarray'>]\n",
        "--------------------------------------------------\n"
       ]
      },
      {
       "output_type": "stream",
       "stream": "stderr",
       "text": [
        "/usr/local/lib/python2.7/dist-packages/idlsave/idlsave.py:173: UserWarning: warning: empty strings are now set to '' instead of None\n",
        "  warnings.warn(\"warning: empty strings are now set to '' instead of None\")\n"
       ]
      }
     ],
     "prompt_number": 3
    },
    {
     "cell_type": "code",
     "collapsed": false,
     "input": [
      "def getJD(date):\n",
      "    if date.month < 2: \n",
      "        date.year -= 1\n",
      "        date.month += 12\n",
      "    A = numpy.floor(date.year/100.)\n",
      "    B = 2. - A + numpy.floor(A/4.)\n",
      "    jd = numpy.floor(365.25*(date.year + 4716.)) + numpy.floor(30.6001*(date.month+1)) + date.day + B - 1524.5\n",
      "    jd = jd + date.hour/24.0 + date.minute/1440.0 + date.second/86400.0\n",
      "    return jd"
     ],
     "language": "python",
     "metadata": {},
     "outputs": [],
     "prompt_number": 4
    },
    {
     "cell_type": "code",
     "collapsed": false,
     "input": [
      "rt.rt_data.dtype"
     ],
     "language": "python",
     "metadata": {},
     "outputs": [
      {
       "output_type": "pyout",
       "prompt_number": 5,
       "text": [
        "dtype([(('juls', 'JULS'), '|O8'), (('tfreq', 'TFREQ'), '|O8'), (('beam', 'BEAM'), '|O8'), (('azim', 'AZIM'), '|O8'), (('lagpower', 'LAGPOWER'), '|O8'), (('power', 'POWER'), '|O8'), (('gscatter', 'GSCATTER'), '|O8'), (('altitude', 'ALTITUDE'), '|O8'), (('valtitude', 'VALTITUDE'), '|O8'), (('elevation', 'ELEVATION'), '|O8'), (('grange', 'GRANGE'), '|O8'), (('latitude', 'LATITUDE'), '|O8'), (('longitude', 'LONGITUDE'), '|O8'), (('nr', 'NR'), '|O8'), (('aspect', 'ASPECT'), '|O8'), (('edens', 'EDENS'), '|O8'), (('dip', 'DIP'), '|O8')])"
       ]
      }
     ],
     "prompt_number": 5
    },
    {
     "cell_type": "code",
     "collapsed": false,
     "input": [
      "alt = rt.rt_data.altitude[0]\n",
      "valt = rt.rt_data.valtitude[0]\n",
      "scat = rt.rt_data.gscatter[0]\n",
      "time = rt.rt_data.juls[0]"
     ],
     "language": "python",
     "metadata": {},
     "outputs": [],
     "prompt_number": 6
    },
    {
     "cell_type": "code",
     "collapsed": false,
     "input": [
      "print time.shape, alt.shape, valt.shape, scat.shape"
     ],
     "language": "python",
     "metadata": {},
     "outputs": [
      {
       "output_type": "stream",
       "stream": "stdout",
       "text": [
        "(24,) (71, 16, 24) (71, 16, 24) (71, 16, 24)\n"
       ]
      }
     ],
     "prompt_number": 7
    },
    {
     "cell_type": "code",
     "collapsed": false,
     "input": [
      "beam = 12\n",
      "sTime = datetime.datetime(2010, 11, 18, 2, 25)\n",
      "eTime = datetime.datetime(2010, 11, 18, 8, 25)\n",
      "tvalt, tpalt = [], []\n",
      "for i in range(len(time)):\n",
      "    for j in range(len(scat[:,beam,i])):\n",
      "        if getJD(sTime) <= time[i] <= getJD(eTime):\n",
      "            if scat[j,beam,i] == 2:\n",
      "                tvalt.append( valt[j,beam,i] )\n",
      "                tpalt.append( alt[j,beam,i] )\n",
      "tpalt = array(tpalt)\n",
      "tvalt = array(tvalt)"
     ],
     "language": "python",
     "metadata": {},
     "outputs": [],
     "prompt_number": 8
    },
    {
     "cell_type": "code",
     "collapsed": false,
     "input": [
      "figure(figsize=(6,6))\n",
      "subplot(111, aspect='equal')\n",
      "scatter(tvalt, tpalt, edgecolors='none', s=5)\n",
      "ylabel('Altitude [km]')\n",
      "xlabel('Virtual height [km]')\n",
      "# linear least squares fit\n",
      "y = tpalt[tpalt > 150.]\n",
      "x = tvalt[tpalt > 150.]\n",
      "A = np.vstack([x, np.ones(len(x))]).T\n",
      "m, c = np.linalg.lstsq(A, y)[0]\n",
      "plot(x, m*x+c, 'r')\n",
      "xlim([150,450])\n",
      "ylim([100,500])\n",
      "majorLoc = matplotlib.ticker.FixedLocator(arange(100,501,100))\n",
      "gca().yaxis.set_major_locator(majorLoc)\n",
      "gca().xaxis.set_major_locator(majorLoc)\n",
      "grid()\n",
      "rcParams.update({'font.size':14})\n",
      "savefig('/home/sebastien/Desktop/valt2palt.eps')"
     ],
     "language": "python",
     "metadata": {},
     "outputs": [
      {
       "output_type": "display_data",
       "png": "[encoded data removed]"
      }
     ],
     "prompt_number": 23
    },
    {
     "cell_type": "code",
     "collapsed": false,
     "input": [],
     "language": "python",
     "metadata": {},
     "outputs": [],
     "prompt_number": 10
    }
   ],
   "metadata": {}
  }
 ]
}