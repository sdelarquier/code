{
 "metadata": {
  "name": "dev_mhoGetFiles"
 },
 "nbformat": 3,
 "nbformat_minor": 0,
 "worksheets": [
  {
   "cells": [
    {
     "cell_type": "code",
     "collapsed": false,
     "input": [
      "import madrigalWeb.madrigalWeb\n",
      "import os\n",
      "from datetime import datetime"
     ],
     "language": "python",
     "metadata": {},
     "outputs": [],
     "prompt_number": 1
    },
    {
     "cell_type": "markdown",
     "metadata": {},
     "source": [
      "###Get files from Madrigal"
     ]
    },
    {
     "cell_type": "code",
     "collapsed": false,
     "input": [
      "# constants\n",
      "user_fullname = 'Sebastien de Larquier'\n",
      "user_email = 'sdelarquier@vt.edu'\n",
      "user_affiliation = 'Virginia Tech'\n",
      "\n",
      "madrigalUrl = 'http://cedar.openmadrigal.org'\n",
      "madData = madrigalWeb.madrigalWeb.MadrigalData(madrigalUrl)"
     ],
     "language": "python",
     "metadata": {},
     "outputs": [],
     "prompt_number": 2
    },
    {
     "cell_type": "code",
     "collapsed": false,
     "input": [
      "def getFilesFromMad(sdate, fdate):\n",
      "    print 'getExperiments'\n",
      "    expList = madData.getExperiments(30, sdate.year, sdate.month, sdate.day, sdate.hour, sdate.minute, sdate.second, \n",
      "                                          fdate.year, fdate.month, fdate.day, fdate.hour, fdate.minute, fdate.second)\n",
      "    \n",
      "    if not expList: return\n",
      "    \n",
      "    for exp in expList:\n",
      "        # should be only one\n",
      "        print (str(exp) + '\\n')\n",
      "    \n",
      "    print 'getExperimentFiles'\n",
      "    thisFilename = False\n",
      "    fileList = madData.getExperimentFiles(expList[0].id)\n",
      "    for thisFile in fileList:\n",
      "        print 'Status: {}; Perm.: {}'.format(thisFile.status, thisFile.permission)\n",
      "        if thisFile.category == 1:\n",
      "            print (str(thisFile.name) + '\\n')\n",
      "            thisFilename = thisFile.name\n",
      "            break\n",
      "        \n",
      "    if not thisFilename: return\n",
      "\n",
      "    print 'downloadFile - hdf5 format'\n",
      "    result = madData.downloadFile(thisFilename, \"/home/sebastien/Documents/code/mho/data/{}.hdf5\".format(os.path.split(thisFilename)[1]), \n",
      "            user_fullname, user_email, user_affiliation, format=\"hdf5\")"
     ],
     "language": "python",
     "metadata": {},
     "outputs": [],
     "prompt_number": 4
    },
    {
     "cell_type": "code",
     "collapsed": false,
     "input": [
      "sdate = datetime(2006, 2, 22, 21)\n",
      "fdate = datetime(2006, 2, 23, 6)\n",
      "getFilesFromMad(sdate, fdate)"
     ],
     "language": "python",
     "metadata": {},
     "outputs": [
      {
       "output_type": "stream",
       "stream": "stdout",
       "text": [
        "getExperiments\n",
        "id: 100001627\n",
        "realUrl: http://cedar.openmadrigal.org/cgi-bin/madExperiment.cgi?exp=experiments/2006/mlh/22feb06&displayLevel=0&expTitle=SuperDARN+joint+observation\n",
        "url: http://cedar.openmadrigal.org/cgi-bin/madtoc/experiments/2006/mlh/22feb06\n",
        "name: SuperDARN joint observation\n",
        "siteid: 10\n",
        "sitename: CEDAR\n",
        "instcode: 30\n",
        "instname: Millstone Hill IS Radar\n",
        "startyear: 2006\n",
        "startmonth: 2\n",
        "startday: 22\n",
        "starthour: 22\n",
        "startmin: 6\n",
        "startsec: 52\n",
        "endyear: 2006\n",
        "endmonth: 2\n",
        "endday: 23\n",
        "endhour: 5\n",
        "endmin: 1\n",
        "endsec: 0\n",
        "isLocal: True\n",
        "madrigalUrl: http://cedar.openmadrigal.org/\n",
        "PI: Phil Erickson\n",
        "PIEmail: perickson@haystack.mit.edu\n",
        "\n",
        "\n"
       ]
      },
      {
       "output_type": "stream",
       "stream": "stdout",
       "text": [
        "\n",
        "getExperimentFiles\n",
        "Status: Final; Perm.: 0"
       ]
      },
      {
       "output_type": "stream",
       "stream": "stdout",
       "text": [
        "\n",
        "/opt/cedar/experiments/2006/mlh/22feb06/mlh060222g.003\n",
        "\n"
       ]
      }
     ],
     "prompt_number": 5
    },
    {
     "cell_type": "code",
     "collapsed": false,
     "input": [
      "import os, h5py\n",
      "import datetime as dt\n",
      "\n",
      "# Now add some derived data to the hdf5 file\n",
      "dataPath='/home/sebastien/Documents/code/mho/data/'\n",
      "thisFilename = '/opt/cedar/experiments/2006/mlh/22feb06/mlh060222g.002'\n",
      "res = madData.isprint(thisFilename, \n",
      "    'YEAR,MONTH,DAY,HOUR,MIN,SEC,GDALT,RANGE,POPL,NE,NEL,TE,MDTYP',\n",
      "    '', user_fullname, user_email, user_affiliation)\n",
      "\n",
      "rows = res.split(\"\\n\")\n",
      "moreData = {'dt': [], \n",
      "            'gdalt': [], \n",
      "            'range': [],  \n",
      "            'popl': [],  \n",
      "            'ne': [],  \n",
      "            'nel': [],  \n",
      "            'te': [],  }\n",
      "for r in rows:\n",
      "    dat = r.split()\n",
      "    if dat and dat[-1] == '115':\n",
      "        if dat[8] == 'missing': dat[8] = 'nan'\n",
      "        if dat[9] == 'missing': dat[9] = 'nan'\n",
      "        if dat[10] == 'missing': dat[10] = 'nan'\n",
      "        if dat[11] == 'missing': dat[11] = 'nan'\n",
      "        moreData['dt'].append( dt.datetime(int(dat[0]), \n",
      "                                           int(dat[1]), \n",
      "                                           int(dat[2]), \n",
      "                                           int(dat[3]), \n",
      "                                           int(dat[4])) )\n",
      "        moreData['gdalt'].append( float(dat[6]) ) \n",
      "        moreData['range'].append( float(dat[7]) ) \n",
      "        moreData['popl'].append( float(dat[8]) ) \n",
      "        moreData['ne'].append( float(dat[9]) )\n",
      "        moreData['nel'].append( float(dat[10]) ) \n",
      "        moreData['te'].append( float(dat[11]) )\n",
      "\n",
      "filePath = os.path.join( dataPath,\n",
      "    os.path.split(thisFilename)[1]+'.hdf5' )\n",
      "\n",
      "with h5py.File(filePath,'r+') as f:\n",
      "    ftime = epoch2num( f['Data']['Array Layout']['timestamps'] )\n",
      "    frange = f['Data']['Array Layout']['range']\n",
      "    tDim = ftime.shape[0]\n",
      "    rDim = frange.shape[0]\n",
      "    shape2d = (tDim, rDim)\n",
      "    gdalt = np.empty(shape2d)\n",
      "    gdalt[:] = np.nan\n",
      "    ne = np.empty(shape2d)\n",
      "    ne[:] = np.nan\n",
      "    nel = np.empty(shape2d)\n",
      "    nel[:] = np.nan\n",
      "    dtfmt = '%Y-%m-%d %H:%M:%S'\n",
      "    dttype = np.dtype('a{}'.format(len(dtfmt)+2))\n",
      "    dtime = np.empty(tDim, dtype=dttype)\n",
      "\n",
      "    # Iterate through the downloaded data\n",
      "    for i in range(len(moreData['dt'])):\n",
      "        # Figure out your range/time index\n",
      "        tind = np.where(ftime[:] <= date2num(moreData['dt'][i]))[0]\n",
      "        rind = np.where(frange[:] <= moreData['range'][i])[0]\n",
      "        gdalt[tind[-1],rind[-1]] = moreData['gdalt'][i]\n",
      "        ne[tind[-1],rind[-1]] = moreData['ne'][i]\n",
      "        nel[tind[-1],rind[-1]] = moreData['nel'][i]\n",
      "        dtime[tind[-1]] = moreData['dt'][i].strftime(dtfmt)\n",
      "\n",
      "    parent = f['Data']['Array Layout']['2D Parameters']\n",
      "    gdalt_ds = parent.create_dataset('gdalt', data=gdalt)\n",
      "    ne_ds = parent.create_dataset('ne', data=ne)\n",
      "    nel_ds = parent.create_dataset('nel', data=nel)\n",
      "\n",
      "    parent = f['Data']['Array Layout']\n",
      "    datetime_ds = parent.create_dataset('datetime', data=dtime)"
     ],
     "language": "python",
     "metadata": {},
     "outputs": [],
     "prompt_number": 13
    },
    {
     "cell_type": "code",
     "collapsed": false,
     "input": [],
     "language": "python",
     "metadata": {},
     "outputs": []
    }
   ],
   "metadata": {}
  }
 ]
}