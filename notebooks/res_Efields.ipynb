{
 "metadata": {
  "name": "res_Efields"
 },
 "nbformat": 3,
 "nbformat_minor": 0,
 "worksheets": [
  {
   "cells": [
    {
     "cell_type": "code",
     "collapsed": false,
     "input": [
      "import sys\n",
      "sys.path.append('/davitpy')\n",
      "import models\n",
      "import pydarn\n",
      "import utils\n",
      "from datetime import datetime as dt\n",
      "import numpy as np"
     ],
     "language": "python",
     "metadata": {},
     "outputs": [
      {
       "output_type": "stream",
       "stream": "stdout",
       "text": [
        "Updated radar information in /davitpy/pydarn/radar/radars.hdf5\n"
       ]
      },
      {
       "output_type": "stream",
       "stream": "stderr",
       "text": [
        "/usr/lib/pymodules/python2.7/mpl_toolkits/__init__.py:2: UserWarning: Module mpl_toolkits was already imported from /usr/lib/pymodules/python2.7/mpl_toolkits/__init__.pyc, but /usr/local/lib/python2.7/dist-packages is being added to sys.path\n",
        "  __import__('pkg_resources').declare_namespace(__name__)\n",
        "/usr/lib/pymodules/python2.7/mpl_toolkits/__init__.py:2: UserWarning: Module dap was already imported from None, but /usr/lib/python2.7/dist-packages is being added to sys.path\n",
        "  __import__('pkg_resources').declare_namespace(__name__)\n"
       ]
      }
     ],
     "prompt_number": 1
    },
    {
     "cell_type": "code",
     "collapsed": false,
     "input": [
      "code = 'wal'\n",
      "pyDate = dt(2006,2,23)\n",
      "########################################\n",
      "rad = pydarn.radar.radar(code=code)\n",
      "fov = pydarn.radar.fov(site=rad.getSiteByDate(pyDate), ngates=70)"
     ],
     "language": "python",
     "metadata": {},
     "outputs": [],
     "prompt_number": 2
    },
    {
     "cell_type": "code",
     "collapsed": false,
     "input": [
      "beam = 9\n",
      "lons = fov.lonCenter[beam, :]\n",
      "lats = fov.latCenter[beam, :]\n",
      "mlats, mlons, _ = models.aacgm.aacgmConvArr(list(lats), list(lons), [300.]*len(lons), 0)\n",
      "mlats = array(mlats)\n",
      "mlons = array(mlons)\n",
      "inds = where((mlats >= 54.) & (mlats <= 58.))[0]\n",
      "lats, lons, _ = models.aacgm.aacgmConvArr(list(mlats[inds]), list(lons[inds]), [300.]*len(inds), 1)\n",
      "lats = array(lats)\n",
      "lons = array(lons)"
     ],
     "language": "python",
     "metadata": {},
     "outputs": [],
     "prompt_number": 3
    },
    {
     "cell_type": "code",
     "collapsed": false,
     "input": [
      "# INPUTS\n",
      "itype = 1 # Geodetic coordinates\n",
      "date = utils.dateToDecYear(pyDate) # decimal year\n",
      "alt = 300. # altitude\n",
      "Bz = zeros(lats.shape)\n",
      "Bf = zeros(lats.shape)\n",
      "for i, lat, lon in zip(range(len(lats)), lats, lons):\n",
      "#    print i, lat, lon, '( mlat = ', mlats[inds[0][i]], ')'\n",
      "    xlti, xltf, xltd = lat,lat,1. # latitude start, stop, step\n",
      "    xlni, xlnf, xlnd = lon,lon,1. # longitude start, stop, step\n",
      "    ifl = 0 # Main field\n",
      "    # Call fortran subroutine\n",
      "    lat,lon,d,s,h,x,y,z,f = models.igrf.igrf11(itype,date,alt,ifl,xlti,xltf,xltd,xlni,xlnf,xlnd)\n",
      "    Bz[i] = z\n",
      "    Bf[i] = f"
     ],
     "language": "python",
     "metadata": {},
     "outputs": [],
     "prompt_number": 4
    },
    {
     "cell_type": "code",
     "collapsed": false,
     "input": [
      "sTime = pyDate.replace(hour=0, minute=30)\n",
      "eTime = pyDate.replace(hour=4, minute=0)\n",
      "myPtr = pydarn.sdio.radDataOpen(sTime,'wal', bmnum=beam, eTime=eTime, fileType='fitacf', filtered=True)"
     ],
     "language": "python",
     "metadata": {},
     "outputs": [
      {
       "output_type": "stream",
       "stream": "stdout",
       "text": [
        "\n",
        "Looking locally for fitacf files\n",
        "bunzip2 -c /sd-data/2006/fitacf/wal/20060223.0001.00.wal.fitacf.bz2 > /tmp/fit/20060223.0001.00.wal.fitacf\n",
        "\n",
        "bunzip2 -c /sd-data/2006/fitacf/wal/20060223.0201.00.wal.fitacf.bz2 > /tmp/fit/20060223.0201.00.wal.fitacf\n"
       ]
      },
      {
       "output_type": "stream",
       "stream": "stdout",
       "text": [
        "\n",
        "bunzip2 -c /sd-data/2006/fitacf/wal/20060223.0401.00.wal.fitacf.bz2 > /tmp/fit/20060223.0401.00.wal.fitacf\n"
       ]
      },
      {
       "output_type": "stream",
       "stream": "stdout",
       "text": [
        "\n",
        "found"
       ]
      },
      {
       "output_type": "stream",
       "stream": "stdout",
       "text": [
        " fitacf data in local files\n",
        "Concatenating all the files in to one\n",
        "cat /tmp/fit/20060223.0001.00.wal.fitacf /tmp/fit/20060223.0201.00.wal.fitacf /tmp/fit/20060223.0401.00.wal.fitacf > /tmp/fit/1361541764.wal.fitacf\n",
        "rm /tmp/fit/20060223.0001.00.wal.fitacf\n",
        "rm /tmp/fit/20060223.0201.00.wal.fitacf\n",
        "rm /tmp/fit/20060223.0401.00.wal.fitacf\n",
        "fitexfilter /tmp/fit/1361541764.wal.fitacf > /tmp/fit/1361541764.wal.fitacff\n"
       ]
      }
     ],
     "prompt_number": 15
    },
    {
     "cell_type": "code",
     "collapsed": false,
     "input": [
      "myBeam = 1\n",
      "vel = []\n",
      "time = []\n",
      "myBeam = pydarn.sdio.radDataReadRec(myPtr)\n",
      "ncounts = 0\n",
      "while myBeam:\n",
      "    ncounts += 1\n",
      "    tv = zeros(len(inds))\n",
      "    if myBeam.fit.slist:\n",
      "        for i,gate in enumerate(myBeam.fit.slist):\n",
      "            if myBeam.fit.p_l[i] > 5 and gate in inds:\n",
      "                tv[list(inds).index(gate)] = myBeam.fit.v[i]\n",
      "        vel.append(tv)\n",
      "        time.append(myBeam.time)\n",
      "    myBeam = pydarn.sdio.radDataReadRec(myPtr)\n",
      "    if myBeam is None: break\n",
      "vel = array(vel)"
     ],
     "language": "python",
     "metadata": {},
     "outputs": [
      {
       "output_type": "stream",
       "stream": "stdout",
       "text": [
        "\n",
        "reached end of data\n"
       ]
      }
     ],
     "prompt_number": 16
    },
    {
     "cell_type": "code",
     "collapsed": false,
     "input": [],
     "language": "python",
     "metadata": {},
     "outputs": []
    }
   ],
   "metadata": {}
  }
 ]
}