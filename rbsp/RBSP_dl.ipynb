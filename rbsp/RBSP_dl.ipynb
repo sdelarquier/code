{
 "metadata": {
  "name": "RBSP_dl"
 },
 "nbformat": 3,
 "nbformat_minor": 0,
 "worksheets": [
  {
   "cells": [
    {
     "cell_type": "code",
     "collapsed": false,
     "input": [
      "import datetime as dt\n",
      "import time"
     ],
     "language": "python",
     "metadata": {},
     "outputs": [],
     "prompt_number": 33
    },
    {
     "cell_type": "code",
     "collapsed": false,
     "input": [
      "sTime = dt.datetime(2012,11,10,0)\n",
      "sutc = time.mktime(sTime.timetuple())\n",
      "eTime = dt.datetime(2012,11,11,1)\n",
      "eutc = time.mktime(eTime.timetuple())"
     ],
     "language": "python",
     "metadata": {},
     "outputs": [],
     "prompt_number": 82
    },
    {
     "cell_type": "code",
     "collapsed": false,
     "input": [
      "header = 'yes'\n",
      "cmode = 'geo'\n",
      "Cadence = 5"
     ],
     "language": "python",
     "metadata": {},
     "outputs": [],
     "prompt_number": 83
    },
    {
     "cell_type": "code",
     "collapsed": false,
     "input": [
      "# Get data for spacecraft A\n",
      "spacecraft = 'a'\n",
      "target = \"http://athena.jhuapl.edu/cgi-bin/orbitpos.cgi?stime={:.0f}\".format(sutc)\n",
      "target += \"&etime={:.0f}&ctime={}&mode={}\".format(eutc, Cadence*60, cmode)\n",
      "target += \"&header={}&spacecraft={}\".format(header, spacecraft)\n",
      "print target\n",
      "!wget -O rbsp_orbit_$spacecraft '$target'"
     ],
     "language": "python",
     "metadata": {},
     "outputs": [
      {
       "output_type": "stream",
       "stream": "stdout",
       "text": [
        "http://athena.jhuapl.edu/cgi-bin/orbitpos.cgi?stime=1352523600&etime=1352613600&ctime=300&mode=geo&header=yes&spacecraft=a\n",
        "--2012-10-11 11:37:00--  http://athena.jhuapl.edu/cgi-bin/orbitpos.cgi?stime=1352523600&etime=1352613600&ctime=300&mode=geo&header=yes&spacecraft=a\r\n",
        "Resolving athena.jhuapl.edu (athena.jhuapl.edu)... 128.244.180.26\r\n",
        "Connecting to athena.jhuapl.edu (athena.jhuapl.edu)|128.244.180.26|:80... connected.\r\n",
        "HTTP request sent, awaiting response... "
       ]
      },
      {
       "output_type": "stream",
       "stream": "stdout",
       "text": [
        "200 OK\r\n",
        "Length: unspecified [text/plain]\r\n",
        "Saving to: `rbsp_orbit_a'\r\n",
        "\r\n",
        "\r",
        "    [<=>                                    ] 0           --.-K/s              \r",
        "    [ <=>                                   ] 16,168      --.-K/s   in 0.03s   \r\n",
        "\r\n",
        "2012-10-11 11:37:01 (508 KB/s) - `rbsp_orbit_a' saved [16168]\r\n",
        "\r\n"
       ]
      }
     ],
     "prompt_number": 84
    },
    {
     "cell_type": "code",
     "collapsed": false,
     "input": [
      "# Get data for spacecraft B\n",
      "spacecraft = 'b'\n",
      "target = \"http://athena.jhuapl.edu/cgi-bin/orbitpos.cgi?stime={:.0f}\".format(sutc)\n",
      "target += \"&etime={:.0f}&ctime={}&mode={}\".format(eutc, Cadence*60, cmode)\n",
      "target += \"&header={}&spacecraft={}\".format(header, spacecraft)\n",
      "print target\n",
      "!wget -O rbsp_orbit_$spacecraft '$target'"
     ],
     "language": "python",
     "metadata": {},
     "outputs": [
      {
       "output_type": "stream",
       "stream": "stdout",
       "text": [
        "http://athena.jhuapl.edu/cgi-bin/orbitpos.cgi?stime=1352523600&etime=1352613600&ctime=300&mode=geo&header=yes&spacecraft=b"
       ]
      },
      {
       "output_type": "stream",
       "stream": "stdout",
       "text": [
        "\n",
        "--2012-10-11 11:37:01--  http://athena.jhuapl.edu/cgi-bin/orbitpos.cgi?stime=1352523600&etime=1352613600&ctime=300&mode=geo&header=yes&spacecraft=b\r\n",
        "Resolving athena.jhuapl.edu (athena.jhuapl.edu)... 128.244.180.26\r\n",
        "Connecting to athena.jhuapl.edu (athena.jhuapl.edu)|128.244.180.26|:80... connected.\r\n",
        "HTTP request sent, awaiting response... "
       ]
      },
      {
       "output_type": "stream",
       "stream": "stdout",
       "text": [
        "200 OK\r\n",
        "Length: unspecified [text/plain]\r\n",
        "Saving to: `rbsp_orbit_b'\r\n",
        "\r\n",
        "\r",
        "    [<=>                                    ] 0           --.-K/s              \r",
        "    [ <=>                                   ] 16,155      --.-K/s   in 0.03s   \r\n",
        "\r\n",
        "2012-10-11 11:37:01 (506 KB/s) - `rbsp_orbit_b' saved [16155]\r\n",
        "\r\n"
       ]
      }
     ],
     "prompt_number": 85
    },
    {
     "cell_type": "code",
     "collapsed": false,
     "input": [],
     "language": "python",
     "metadata": {},
     "outputs": []
    }
   ],
   "metadata": {}
  }
 ]
}