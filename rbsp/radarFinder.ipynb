{
 "metadata": {
  "name": "radarFinder"
 },
 "nbformat": 3,
 "nbformat_minor": 0,
 "worksheets": [
  {
   "cells": [
    {
     "cell_type": "code",
     "collapsed": false,
     "input": [
      "import sys\n",
      "sys.path.append('/davitpy')\n",
      "from pydarn.radar.radNetwork import network\n",
      "from utils import geoPack as geo\n",
      "from datetime import datetime"
     ],
     "language": "python",
     "metadata": {},
     "outputs": [
      {
       "output_type": "stream",
       "stream": "stderr",
       "text": [
        "/usr/local/lib/python2.7/dist-packages/mpl_toolkits/__init__.py:2: UserWarning: Module dap was already imported from None, but /usr/lib/python2.7/dist-packages is being added to sys.path\n",
        "  __import__('pkg_resources').declare_namespace(__name__)\n"
       ]
      }
     ],
     "prompt_number": 1
    },
    {
     "cell_type": "code",
     "collapsed": false,
     "input": [
      "# Pick a date and point\n",
      "date = datetime.utcnow()\n",
      "lon = -134.\n",
      "lat = 67."
     ],
     "language": "python",
     "metadata": {},
     "outputs": [],
     "prompt_number": 2
    },
    {
     "cell_type": "code",
     "collapsed": false,
     "input": [
      "rads = network()\n",
      "hemi = 'North' if lat>0 else 'South'\n",
      "codes = rads.getAllCodes(datetime=date, hemi=hemi)"
     ],
     "language": "python",
     "metadata": {},
     "outputs": [],
     "prompt_number": 3
    },
    {
     "cell_type": "code",
     "collapsed": false,
     "input": [
      "maxR = 4000.\n",
      "out = {'radars': [], \n",
      "        'dist': [], \n",
      "        'beam': []}\n",
      "for code in codes:\n",
      "    site = rads.getRadarByCode(code).getSiteByDate(date)\n",
      "    distPnt = geo.calcDistPnt(site.geolat, site.geolon, site.alt, distLat=lat, distLon=lon, distAlt=300.)\n",
      "    if distPnt['dist'] > maxR: continue\n",
      "    if not site.boresite-site.bmsep*site.maxbeam/2 <= distPnt['az'] <= site.boresite+site.bmsep*site.maxbeam/2: continue\n",
      "    beam = int( site.maxbeam/2 + round( (distPnt['az']-site.boresite)/site.bmsep ) )\n",
      "    out['radars'].append(rads.getRadarByCode(code).code[0])\n",
      "    out['dist'].append(distPnt['dist'])\n",
      "    out['beam'].append(beam)\n",
      "    print '{}: {:4.1f} km -- beam {}'.format(rads.getRadarByCode(code).code[0], distPnt['dist'], beam)"
     ],
     "language": "python",
     "metadata": {},
     "outputs": [
      {
       "output_type": "stream",
       "stream": "stdout",
       "text": [
        "kap: 3643.5 km -- beam 0\n",
        "pgr: 1730.6 km -- beam 4\n",
        "kod: 1460.2 km -- beam 9\n",
        "cly: 2609.2 km -- beam 4\n",
        "cvw: 3249.7 km -- beam 14\n",
        "ade: 2915.1 km -- beam 9\n"
       ]
      }
     ],
     "prompt_number": 4
    },
    {
     "cell_type": "code",
     "collapsed": false,
     "input": [
      "# ..or..\n",
      "rads = network()\n",
      "radFound = rads.getRadarsByPosition(lat, lon, 300.)\n",
      "for rad,dist,beam in zip(radFound['radars'],radFound['dist'],radFound['beam']):\n",
      "    print '{}: {:4.1f} km -- beam {}'.format(rad.code[0], dist, beam)"
     ],
     "language": "python",
     "metadata": {},
     "outputs": [
      {
       "output_type": "stream",
       "stream": "stdout",
       "text": [
        "kap: 3643.5 km -- beam 0\n",
        "pgr: 1730.6 km -- beam 4\n",
        "kod: 1460.2 km -- beam 9\n",
        "cly: 2609.2 km -- beam 4\n",
        "cvw: 3249.7 km -- beam 14\n",
        "ade: 2915.1 km -- beam 9\n"
       ]
      }
     ],
     "prompt_number": 5
    },
    {
     "cell_type": "code",
     "collapsed": false,
     "input": [],
     "language": "python",
     "metadata": {},
     "outputs": []
    }
   ],
   "metadata": {}
  }
 ]
}